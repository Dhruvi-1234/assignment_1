{
  "cells": [
    {
      "cell_type": "markdown",
      "metadata": {
        "id": "view-in-github",
        "colab_type": "text"
      },
      "source": [
        "<a href=\"https://colab.research.google.com/github/Dhruvi-1234/assignment_1/blob/main/Assignment_1.ipynb\" target=\"_parent\"><img src=\"https://colab.research.google.com/assets/colab-badge.svg\" alt=\"Open In Colab\"/></a>"
      ]
    },
    {
      "cell_type": "markdown",
      "metadata": {
        "id": "-AstP2h5tbHL"
      },
      "source": [
        "Registration and Login system using Python, file handling"
      ]
    },
    {
      "cell_type": "code",
      "execution_count": null,
      "metadata": {
        "id": "s7ruZWORvJKf"
      },
      "outputs": [],
      "source": [
        "f = open(\"login.txt\",\"w\")\n",
        "f.write('vijay123@gmail.com,Vijay@123\\n')\n",
        "f.write('kamal211@gmail.com,Kamal@211\\n')\n",
        "f.write('pooja32@gmail.com,Pooja@32\\n')\n",
        "f.write('aman45@gmail.com,Aman@45\\n')\n",
        "f.close()"
      ]
    },
    {
      "cell_type": "code",
      "execution_count": null,
      "metadata": {
        "colab": {
          "base_uri": "https://localhost:8080/"
        },
        "id": "NK1DH4950jU_",
        "outputId": "c6c1dc27-3581-4f3e-99ab-7405560550ba"
      },
      "outputs": [
        {
          "output_type": "stream",
          "name": "stdout",
          "text": [
            "['vijay123@gmail.com,Vijay@123\\n', 'kamal211@gmail.com,Kamal@211\\n', 'pooja32@gmail.com,Pooja@32\\n', 'aman45@gmail.com,Aman@45\\n']\n"
          ]
        }
      ],
      "source": [
        "f = open(\"login.txt\",\"r\")\n",
        "lst=f.readlines()\n",
        "print(lst)"
      ]
    },
    {
      "cell_type": "code",
      "execution_count": null,
      "metadata": {
        "id": "4xHj8sjjtflG"
      },
      "outputs": [],
      "source": [
        "# Registration\n",
        "\n",
        "def registration():\n",
        "  import re\n",
        "  Username = input('Please enter your mail id :')\n",
        "  pattern = (r\"(^[a-zA-Z0-9_.+-]+@[a-zA-Z0-9-]+\\.[a-zA-Z0-9-.]+$)\")\n",
        "  mail_id = re.compile(pattern)\n",
        "  if re.fullmatch(mail_id,Username):\n",
        "    print(\"username is valid\")\n",
        "    print('Please enter your password:')\n",
        "  else:\n",
        "    print(\"username is invalid,Please enter valid username\")\n",
        "    return registration()\n",
        "\n",
        "  Password = input()\n",
        "  condition = re.compile(\"^(?=.*[a-z])(?=.*[A-Z])(?=.*\\d)(?=.*[@$!%*#?& ])[A-Za-z\\d@$!#%*?&]{5,16}$\")\n",
        "  result = re.compile(condition)\n",
        "  if re.fullmatch(result,Password):\n",
        "    print(\"password is valid\")\n",
        "    print(\"Register successfully\")\n",
        "  else:\n",
        "    print(\"password is not valid,Please enter valid password\")\n",
        "    Password = input()\n",
        "  \n",
        "  data= f\"{Username},{Password}\\n\"\n",
        "  f = open(\"login.txt\",'a')\n",
        "  f.writelines(data)\n",
        "  f.close()\n",
        "   \n"
      ]
    },
    {
      "cell_type": "code",
      "execution_count": null,
      "metadata": {
        "id": "dj93XwOmWgga"
      },
      "outputs": [],
      "source": [
        "# Sign in\n",
        "def Signin(lst):\n",
        "  Email_id = input(\"Please enter your mail id:\")\n",
        "  for i in lst:\n",
        "    y =i.strip().split(\",\")\n",
        "    if Email_id == y[0]:\n",
        "      print(\"Enter your password:\")\n",
        "      Password = input()\n",
        "      if Password == y[1]:\n",
        "        print('Login successfully')\n",
        "        break\n",
        "      else:\n",
        "        print('Please enter valid password')\n",
        "        print('Your password should contain following conditions:')\n",
        "        print('1. length of password should be between 5 to 16')\n",
        "        print('2. atleast one UPPER Case')\n",
        "        print('3. atleast one LOWER Case')\n",
        "        print( '4. atleast one digit and one special character')\n",
        "        Password = input()\n",
        "      if Password ==y[1]:\n",
        "          print('Login successfully')\n",
        "          break\n",
        "      else:\n",
        "        print('Please click on forgot password to login')\n",
        "    else:\n",
        "      print(\"Email id does not exist,Please do registration first\")\n",
        "\n",
        "    \n",
        "\n",
        "    "
      ]
    },
    {
      "cell_type": "code",
      "execution_count": null,
      "metadata": {
        "id": "KZYBeFba0tgH"
      },
      "outputs": [],
      "source": [
        "# Forgot password.\n",
        "def forgot_password():\n",
        "  Email_id = input('Please enter your id:')\n",
        "  New_password = input('Please reset your password')\n",
        "\n",
        "  New_data= f\"{Email_id},{New_password}\\n\"\n",
        "  print(\"Your password has been reset,Please login.\")\n",
        "  f = open(\"login.txt\",'a')\n",
        "  f.writelines(New_data)\n",
        "  f.close()\n",
        "\n",
        "  # for index,i in enumerate(lst):\n",
        "    #x=i.strip().split(\",\")\n",
        "    #if Email_id == x[0]:\n",
        "     # print('Your password is',x[1])\n",
        "      # print('Please Sign in')\n",
        "  \n",
        "   \n",
        "\n",
        "    \n",
        "\n",
        "      "
      ]
    },
    {
      "cell_type": "code",
      "execution_count": null,
      "metadata": {
        "id": "rn50-FL0_SB6"
      },
      "outputs": [],
      "source": [
        "def login():\n",
        "  option = int(input('Choose your option 1 2 3'))\n",
        "  if option==1:\n",
        "    registration()\n",
        "  elif option==2:\n",
        "    Signin(lst)\n",
        "  elif option==3:\n",
        "    forgot_password()\n",
        "  else:\n",
        "    print('choose correct option')  "
      ]
    },
    {
      "cell_type": "code",
      "execution_count": null,
      "metadata": {
        "colab": {
          "base_uri": "https://localhost:8080/"
        },
        "id": "uPcFdjTDFvSD",
        "outputId": "3ddf45d7-67c0-4b3b-b916-32446160194d"
      },
      "outputs": [
        {
          "output_type": "stream",
          "name": "stdout",
          "text": [
            "Choose your option 1 2 32\n",
            "Please enter your mail id:vijay123@gmail.com\n",
            "Enter your password:\n",
            "Vijay@123\n",
            "Login successfully\n"
          ]
        }
      ],
      "source": [
        "login()"
      ]
    }
  ],
  "metadata": {
    "colab": {
      "collapsed_sections": [],
      "name": "Assignment_1.ipynb",
      "provenance": [],
      "authorship_tag": "ABX9TyNEmSMhQSZHEYXF7VeD671s",
      "include_colab_link": true
    },
    "kernelspec": {
      "display_name": "Python 3",
      "name": "python3"
    },
    "language_info": {
      "name": "python"
    }
  },
  "nbformat": 4,
  "nbformat_minor": 0
}